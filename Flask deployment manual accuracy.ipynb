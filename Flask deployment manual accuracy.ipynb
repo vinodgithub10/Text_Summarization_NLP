{
 "cells": [
  {
   "cell_type": "code",
   "execution_count": 1,
   "id": "5d450609",
   "metadata": {},
   "outputs": [],
   "source": [
    "#!pip install Flask"
   ]
  },
  {
   "cell_type": "code",
   "execution_count": null,
   "id": "eeac8c24",
   "metadata": {},
   "outputs": [],
   "source": [
    "# !pip install spacy"
   ]
  },
  {
   "cell_type": "code",
   "execution_count": null,
   "id": "f1eb6e66",
   "metadata": {},
   "outputs": [
    {
     "name": "stdout",
     "output_type": "stream",
     "text": [
      " * Serving Flask app 'Text_summarizer' (lazy loading)\n",
      " * Environment: production\n",
      "\u001b[31m   WARNING: This is a development server. Do not use it in a production deployment.\u001b[0m\n",
      "\u001b[2m   Use a production WSGI server instead.\u001b[0m\n",
      " * Debug mode: off\n"
     ]
    },
    {
     "name": "stderr",
     "output_type": "stream",
     "text": [
      " * Running on http://localhost:8889 (Press CTRL+C to quit)\n"
     ]
    }
   ],
   "source": [
    "import spacy\n",
    "from spacy.lang.en.stop_words import STOP_WORDS\n",
    "from string import punctuation\n",
    "from heapq import nlargest\n",
    "from flask import Flask , render_template , request\n",
    "\n",
    "app = Flask(\"Text_summarizer\")\n",
    "\n",
    "@app.route(\"/home\")\n",
    "def home():\n",
    "        return render_template( \"index.html\" )\n",
    "\n",
    "\n",
    "@app.route(\"/process\" , methods = [\"POST\"] )\n",
    "\n",
    "def prediction():\n",
    "        text = request.form[\"z1\"]             \n",
    "        stopwords = list(STOP_WORDS)\n",
    "            \n",
    "        nlp = spacy.load('en_core_web_sm')\n",
    "        doc = nlp(text)\n",
    "        tokens = [token.text for token in doc]\n",
    "          \n",
    "        word_frequencies = {}\n",
    "            \n",
    "        for word in doc:\n",
    "            if word.text.lower() not in stopwords:\n",
    "                if word.text.lower() not in punctuation:\n",
    "                    if word.text not in word_frequencies.keys():\n",
    "                        word_frequencies[word.text] = 1\n",
    "                    else:\n",
    "                        word_frequencies[word.text] += 1\n",
    "                            \n",
    "                            \n",
    "        max_frequency = max(word_frequencies.values())\n",
    "            \n",
    "        for word in word_frequencies.keys():\n",
    "            word_frequencies[word] = word_frequencies[word]/max_frequency\n",
    "            \n",
    "        sentence_tokens = [sent for sent in doc.sents]\n",
    "            \n",
    "        sentence_scores = {}\n",
    "        for sent in sentence_tokens:\n",
    "            for word in sent:\n",
    "                if word.text.lower() in word_frequencies.keys():\n",
    "                    if sent not in sentence_scores.keys():\n",
    "                        sentence_scores[sent] = word_frequencies[word.text.lower()]\n",
    "                    else:\n",
    "                        sentence_scores[sent] += word_frequencies[word.text.lower()]\n",
    "                            \n",
    "        from heapq import nlargest\n",
    "        select_length = int(len(sentence_tokens)*0.3)\n",
    "            \n",
    "        summary = nlargest(select_length, sentence_scores, key = sentence_scores.get)\n",
    "        \n",
    "        final_summary = [word.text for word in summary]\n",
    "        summary = ' '.join(final_summary)\n",
    "            \n",
    "        # return summary\n",
    "        return render_template('output.html', summary=summary)\n",
    "\n",
    "        # print(summarise(text))\n",
    "\n",
    "app.run(host=\"localhost\" , port=8889)"
   ]
  },
  {
   "cell_type": "code",
   "execution_count": null,
   "id": "30166d80",
   "metadata": {},
   "outputs": [],
   "source": []
  }
 ],
 "metadata": {
  "kernelspec": {
   "display_name": "Python 3 (ipykernel)",
   "language": "python",
   "name": "python3"
  },
  "language_info": {
   "codemirror_mode": {
    "name": "ipython",
    "version": 3
   },
   "file_extension": ".py",
   "mimetype": "text/x-python",
   "name": "python",
   "nbconvert_exporter": "python",
   "pygments_lexer": "ipython3",
   "version": "3.8.5"
  }
 },
 "nbformat": 4,
 "nbformat_minor": 5
}
